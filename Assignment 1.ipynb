{
 "cells": [
  {
   "cell_type": "code",
   "execution_count": 24,
   "metadata": {},
   "outputs": [],
   "source": [
    "def fibonaci(n):\n",
    "    a = 1\n",
    "    b = 1\n",
    "    for i in range(n):\n",
    "        a, b = b, a+b\n",
    "        print(a)"
   ]
  },
  {
   "cell_type": "code",
   "execution_count": 26,
   "metadata": {},
   "outputs": [
    {
     "name": "stdout",
     "output_type": "stream",
     "text": [
      "1\n",
      "2\n",
      "3\n",
      "5\n",
      "8\n"
     ]
    }
   ],
   "source": [
    "fibonaci(5)"
   ]
  },
  {
   "cell_type": "code",
   "execution_count": 27,
   "metadata": {},
   "outputs": [
    {
     "name": "stdout",
     "output_type": "stream",
     "text": [
      "2002,2009,2016,2023,2037,2044,2051,2058,2072,2079,2086,2093,2107,2114,2121,2128,2142,2149,2156,2163,2177,2184,2191,2198,2212,2219,2226,2233,2247,2254,2261,2268,2282,2289,2296,2303,2317,2324,2331,2338,2352,2359,2366,2373,2387,2394,2401,2408,2422,2429,2436,2443,2457,2464,2471,2478,2492,2499,2506,2513,2527,2534,2541,2548,2562,2569,2576,2583,2597,2604,2611,2618,2632,2639,2646,2653,2667,2674,2681,2688,2702,2709,2716,2723,2737,2744,2751,2758,2772,2779,2786,2793,2807,2814,2821,2828,2842,2849,2856,2863,2877,2884,2891,2898,2912,2919,2926,2933,2947,2954,2961,2968,2982,2989,2996,3003,3017,3024,3031,3038,3052,3059,3066,3073,3087,3094,3101,3108,3122,3129,3136,3143,3157,3164,3171,3178,3192,3199,"
     ]
    }
   ],
   "source": [
    "for a in range(1999,3201):\n",
    "    if a % 7 == 0 and a % 5 != 0:\n",
    "        print(a, end = ',')\n",
    "            \n",
    "    "
   ]
  },
  {
   "cell_type": "code",
   "execution_count": 28,
   "metadata": {},
   "outputs": [
    {
     "name": "stdout",
     "output_type": "stream",
     "text": [
      "Enter a first name: \n",
      "ghghhholk\n",
      "Enter a last name: \n",
      "popopo\n",
      "klohhhghg  opopop\n"
     ]
    }
   ],
   "source": [
    "\n",
    "try:\n",
    "    F_name = input(\"Enter a first name: \\n\")\n",
    "    L_name = input(\"Enter a last name: \\n\")\n",
    "    if not (F_name.isalpha() and L_name.isalpha()) :\n",
    "        print(\"Only letters are allowed\")\n",
    "    else:\n",
    "        print(F_name[::-1],'',L_name[::-1])\n",
    "except:\n",
    "    print(\"Wrong Input\")"
   ]
  },
  {
   "cell_type": "markdown",
   "metadata": {},
   "source": [
    "\n",
    "# Volume of a shere"
   ]
  },
  {
   "cell_type": "code",
   "execution_count": 29,
   "metadata": {},
   "outputs": [
    {
     "name": "stdout",
     "output_type": "stream",
     "text": [
      "Enter a Dia \n",
      "45\n",
      "47712.938426394976\n"
     ]
    }
   ],
   "source": [
    "import math\n",
    "try:\n",
    "    d = int(input(\"Enter a Dia \\n\"))\n",
    "    r = d/2\n",
    "    V = (4/3)*math.pi*r**3\n",
    "    print(V)\n",
    "except:\n",
    "    print(\"wrong input\")\n"
   ]
  },
  {
   "cell_type": "code",
   "execution_count": 31,
   "metadata": {},
   "outputs": [
    {
     "name": "stdout",
     "output_type": "stream",
     "text": [
      "Enter the numbers: \n",
      "45,65,12\n",
      "['45', '65', '12']\n"
     ]
    }
   ],
   "source": [
    "\n",
    "try:\n",
    "    s= input(\"Enter the numbers: \\n\")\n",
    "    try:\n",
    "        if not s.isalpha():\n",
    "            a= list(s.split(','))\n",
    "            print(a)\n",
    "    except:\n",
    "            print(\"Only no.s are allowed\")\n",
    "except:\n",
    "    print(\"Only no.s are allowed\")"
   ]
  },
  {
   "cell_type": "code",
   "execution_count": 32,
   "metadata": {},
   "outputs": [
    {
     "name": "stdout",
     "output_type": "stream",
     "text": [
      "\n",
      "*\n",
      "**\n",
      "***\n",
      "****\n",
      "*****\n",
      "****\n",
      "***\n",
      "**\n",
      "*\n"
     ]
    }
   ],
   "source": [
    "for a in range(5):\n",
    "    print('*'*a)\n",
    "for b in range (5,0,-1):\n",
    "    print('*'*b)\n",
    "    "
   ]
  },
  {
   "cell_type": "code",
   "execution_count": 34,
   "metadata": {},
   "outputs": [
    {
     "name": "stdout",
     "output_type": "stream",
     "text": [
      "Enter the word: \n",
      "ghhhhde\n",
      "edhhhhg\n"
     ]
    }
   ],
   "source": [
    "try:\n",
    "    word=input(\"Enter the word: \\n\")\n",
    "    int(word)\n",
    "    print(\"Please enter the text\")\n",
    "\n",
    "except:\n",
    "    print(word[::-1])"
   ]
  },
  {
   "cell_type": "code",
   "execution_count": 35,
   "metadata": {},
   "outputs": [
    {
     "name": "stdout",
     "output_type": "stream",
     "text": [
      "WE, THE PEOPLE OF INDIA, \n",
      " having solemnly resolved to constitute India into a SOVEREIGN,\n",
      " SOCIALIST, SECULAR, DEMOCRATIC REPUBLIC \n",
      " and to secure to all its citizens\n"
     ]
    }
   ],
   "source": [
    " print(\"WE, THE PEOPLE OF INDIA, \\n\",\"having solemnly resolved to constitute India into a SOVEREIGN,\\n\" ,\"SOCIALIST, SECULAR, DEMOCRATIC REPUBLIC \\n\",\"and to secure to all its citizens\")\n"
   ]
  }
 ],
 "metadata": {
  "kernelspec": {
   "display_name": "Python 3",
   "language": "python",
   "name": "python3"
  },
  "language_info": {
   "codemirror_mode": {
    "name": "ipython",
    "version": 3
   },
   "file_extension": ".py",
   "mimetype": "text/x-python",
   "name": "python",
   "nbconvert_exporter": "python",
   "pygments_lexer": "ipython3",
   "version": "3.7.6"
  }
 },
 "nbformat": 4,
 "nbformat_minor": 4
}
