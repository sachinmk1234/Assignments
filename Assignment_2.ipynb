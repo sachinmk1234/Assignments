{
 "cells": [
  {
   "cell_type": "code",
   "execution_count": 100,
   "metadata": {},
   "outputs": [
    {
     "name": "stdout",
     "output_type": "stream",
     "text": [
      "Enter the No.s: \n",
      "5\n",
      "Enter the No.s: \n",
      "6\n",
      "Enter the No.s: \n",
      "4\n",
      "Enter the No.s: \n",
      "8\n",
      "23\n"
     ]
    }
   ],
   "source": [
    "import numpy as np\n",
    "\n",
    "def myreduce(num):\n",
    "    try:\n",
    "        mylist=[]\n",
    "        for a in range(num):\n",
    "            s=int(input(\"Enter the No.s: \\n\"))\n",
    "            mylist.append(s)\n",
    "            sum = 0\n",
    "            for k in mylist:\n",
    "                sum = sum + k\n",
    "        print(sum)\n",
    "    except ValueError:\n",
    "        print(\"Please Enter the integers\")\n",
    "myreduce(4)      "
   ]
  },
  {
   "cell_type": "code",
   "execution_count": 102,
   "metadata": {},
   "outputs": [
    {
     "data": {
      "text/plain": [
       "[6, 8]"
      ]
     },
     "execution_count": 102,
     "metadata": {},
     "output_type": "execute_result"
    }
   ],
   "source": [
    "def myfilter(mylist):\n",
    "    new_list = [] \n",
    "    for num in mylist:\n",
    "        if num % 2 == 0 :\n",
    "            new_list.append(num)\n",
    "    return new_list \n",
    "myfilter([5,6,7,8])"
   ]
  },
  {
   "cell_type": "code",
   "execution_count": 104,
   "metadata": {},
   "outputs": [
    {
     "name": "stdout",
     "output_type": "stream",
     "text": [
      "Enter the words: \n",
      "fd\n",
      "Enter the words: \n",
      "dfdfdf\n",
      "Enter the words: \n",
      "dfd\n",
      "Enter the words: \n",
      "dfdfdfdfdfd\n",
      "Enter the words: \n",
      "df\n",
      "The longest word:\n",
      " dfdfdfdfdfd\n"
     ]
    }
   ],
   "source": [
    "def longestWord(num):\n",
    "    import re\n",
    "    ilen = 0 \n",
    "    for a in range(num):\n",
    "        word = input(\"Enter the words: \\n\") \n",
    "        if not re.match(\"^[a-zA-Z]*$\",word):\n",
    "            print(\"Error,Only text is allowed\")\n",
    "        if len(word) > ilen:\n",
    "            ilen,longest_word = len(word),word\n",
    "    print(\"The longest word:\\n\",longest_word) \n",
    "longestWord(5)"
   ]
  },
  {
   "cell_type": "code",
   "execution_count": 108,
   "metadata": {},
   "outputs": [
    {
     "name": "stdout",
     "output_type": "stream",
     "text": [
      "Enter the n: \n",
      "5\n",
      "Enter the words: \n",
      "151\n",
      "Error,Only text is allowed\n",
      "Enter the words: \n",
      "4656\n",
      "Error,Only text is allowed\n",
      "Enter the words: \n",
      "jkhkdfsd\n",
      "Enter the words: \n",
      "sdfd\n",
      "Enter the words: \n",
      "dfdfdf\n",
      "The longest words:\n",
      " ['jkhkdfsd', 'dfdfdf']\n"
     ]
    }
   ],
   "source": [
    "def filter_long_Words(num):\n",
    "    import re\n",
    "    words = []\n",
    "    try:\n",
    "        ilen = int(input(\"Enter the n: \\n\"))\n",
    "        for a in range(num):\n",
    "            word = input(\"Enter the words: \\n\") \n",
    "            if not re.match(\"^[a-zA-Z]*$\",word):\n",
    "                print(\"Error,Only text is allowed\")\n",
    "            if len(word) > ilen:\n",
    "                words.append(word)   \n",
    "        print(\"The longest words:\\n\",words) \n",
    "    except ValueError:\n",
    "        print(\"Wrong Input\")\n",
    "filter_long_Words(5)"
   ]
  },
  {
   "cell_type": "code",
   "execution_count": 110,
   "metadata": {},
   "outputs": [
    {
     "name": "stdout",
     "output_type": "stream",
     "text": [
      "Enter the words: \n",
      "dfgfg\n",
      "Enter the words: \n",
      "fgfgfgfg\n"
     ]
    },
    {
     "data": {
      "text/plain": [
       "('length of words:', [5, 8])"
      ]
     },
     "execution_count": 110,
     "metadata": {},
     "output_type": "execute_result"
    }
   ],
   "source": [
    "def toint(num):\n",
    "    import re\n",
    "    to_integers = []\n",
    "    try:\n",
    "        for a in range(num):\n",
    "            word = input(\"Enter the words: \\n\") \n",
    "            if not re.match(\"^[a-zA-Z]*$\",word):\n",
    "                print(\"Error,Only text is allowed\")\n",
    "            to_integers.append(len(word))\n",
    "        return \"length of words:\" , to_integers\n",
    "    except:\n",
    "        print(\"Wrong Input\")\n",
    "toint(2)"
   ]
  },
  {
   "cell_type": "code",
   "execution_count": 5,
   "metadata": {},
   "outputs": [
    {
     "name": "stdout",
     "output_type": "stream",
     "text": [
      "Enter the string: \n",
      "5\n",
      "False\n",
      "Enter the string: \n",
      "2\n",
      "False\n"
     ]
    }
   ],
   "source": [
    "def isvowel(num):\n",
    "    for a in range(num):\n",
    "        v= [i for i in 'aeiou']\n",
    "        s=input(\"Enter the string: \\n\")\n",
    "        r=[i for i in v if s in i]\n",
    "        if r!=[]:\n",
    "            print(True)\n",
    "        else:\n",
    "            print(False)\n",
    "isvowel(2)"
   ]
  },
  {
   "cell_type": "code",
   "execution_count": 40,
   "metadata": {},
   "outputs": [
    {
     "name": "stdout",
     "output_type": "stream",
     "text": [
      "['A', 'C', 'A', 'D', 'G', 'I', 'L', 'D']\n",
      "['x', 'xx', 'xxx', 'y', 'yy', 'yyy', 'z', 'zz', 'zzz']\n",
      "['x', 'y', 'z', 'xx', 'yy', 'zz', 'xxx', 'yyy', 'zzz', 'xxxx', 'yyyy', 'zzzz']\n",
      "[[2], [3], [4], [3], [4], [5], [4], [5], [6]]\n",
      "[[2, 3, 4, 5], [3, 4, 5, 6], [4, 5, 6, 7], [5, 6, 7, 8]]\n",
      "[(1, 1), (2, 1), (3, 1), (1, 2), (2, 2), (3, 2), (1, 3), (2, 3), (3, 3)]\n"
     ]
    }
   ],
   "source": [
    "\n",
    "print([s for s in \"ACADGILD\"])\n",
    "print([(a*num) for a in ['x','y','z'] for num in range(1,4)])\n",
    "print([(a*num) for num in range(1,5) for a in 'xyz'])\n",
    "print([[a+num] for num in range(1,4) for a in range(1,4)])\n",
    "print([[num,(num+1),(num+2),(num+3)] for num in range(2,6)])\n",
    "print([(a,num) for num in range(1,4) for a in range(1,4)])\n",
    "\n"
   ]
  },
  {
   "cell_type": "code",
   "execution_count": 93,
   "metadata": {},
   "outputs": [],
   "source": [
    "class triangle():\n",
    "    def __init__(self):\n",
    "        \n",
    "        self.a=float(input(\"Enter the value of side: \\n\"))\n",
    "        self.b=float(input(\"Enter the value of side: \\n\"))\n",
    "        self.c=float(input(\"Enter the value of side: \\n\"))\n",
    "        self.s = float(self.a+self.b+self.c)/2\n",
    "        \n",
    "class Area(triangle): \n",
    "    pass\n",
    "    def ____init____():\n",
    "        super().__init__(self,*args)\n",
    "    \n",
    "    def area(self):\n",
    "        return (self.s*(self.s-self.a)*(self.s-self.b)*(self.s-self.c))\n",
    "    \n",
    "  "
   ]
  },
  {
   "cell_type": "code",
   "execution_count": 98,
   "metadata": {},
   "outputs": [
    {
     "name": "stdout",
     "output_type": "stream",
     "text": [
      "Enter the value of side: \n",
      "5\n",
      "Enter the value of side: \n",
      "6\n",
      "Enter the value of side: \n",
      "7\n"
     ]
    }
   ],
   "source": [
    "sides=Area()\n"
   ]
  },
  {
   "cell_type": "code",
   "execution_count": 99,
   "metadata": {},
   "outputs": [
    {
     "data": {
      "text/plain": [
       "216.0"
      ]
     },
     "execution_count": 99,
     "metadata": {},
     "output_type": "execute_result"
    }
   ],
   "source": [
    "sides.area()"
   ]
  }
 ],
 "metadata": {
  "kernelspec": {
   "display_name": "Python 3",
   "language": "python",
   "name": "python3"
  },
  "language_info": {
   "codemirror_mode": {
    "name": "ipython",
    "version": 3
   },
   "file_extension": ".py",
   "mimetype": "text/x-python",
   "name": "python",
   "nbconvert_exporter": "python",
   "pygments_lexer": "ipython3",
   "version": "3.7.6"
  }
 },
 "nbformat": 4,
 "nbformat_minor": 4
}
